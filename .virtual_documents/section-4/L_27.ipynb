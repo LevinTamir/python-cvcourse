import cv2
import numpy as np
import matplotlib.pyplot as plt


def load_img():
    img = cv2.imread('../DATA/bricks.jpg').astype(np.float32) / 255
    img = cv2.cvtColor(img, cv2.COLOR_BGR2RGB)
    return img


# load_img()


def display_img(img):
    fig  = plt.figure(figsize=(12,10))
    ax = fig.add_subplot(111)
    ax.imshow(img)


i = load_img()
display_img(i)


gamma = 2


result = np.power(i,gamma)
display_img(result)


img = load_img()
font = cv2.FONT_HERSHEY_COMPLEX
cv2.putText(img,text='Tamir',org=(10,600),fontFace=font,fontScale=10,color=(255,0,0),thickness=4)
display_img(img)


kernel = np.ones(shape=(5,5),dtype=np.float32)/25


kernel


1/25


dst = cv2.filter2D(img,-1,kernel)
display_img(dst)



