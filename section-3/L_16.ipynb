{
 "cells": [
  {
   "cell_type": "code",
   "execution_count": 10,
   "id": "c3d759d1-3883-4660-b50c-915f92de443a",
   "metadata": {},
   "outputs": [],
   "source": [
    "import cv2\n",
    "import numpy as np\n",
    "\n",
    "## FUNCTION\n",
    "def draw_circle(event,x,y,flags,param):\n",
    "    \n",
    "    if event == cv2.EVENT_LBUTTONDOWN:\n",
    "        cv2.circle(img,(x,y),100,(0,255,0),10)\n",
    "        \n",
    "    elif event == cv2.EVENT_RBUTTONDOWN:\n",
    "        cv2.circle(img,(x,y),100,(0,0,255),8)\n",
    "\n",
    "cv2.namedWindow(winname='my_drawing')\n",
    "\n",
    "cv2.setMouseCallback('my_drawing',draw_circle)\n",
    "\n",
    "\n",
    "## SHOWING IMAGE WITH OPENCV\n",
    "img = np.zeros((512,512,3))\n",
    "\n",
    "while True:\n",
    "    \n",
    "    cv2.imshow('my_drawing',img)\n",
    "    \n",
    "    if cv2.waitKey(20) & 0xFF == 27:\n",
    "        break\n",
    "        \n",
    "        \n",
    "cv2.destroyAllWindows()\n"
   ]
  }
 ],
 "metadata": {
  "kernelspec": {
   "display_name": "Python 3",
   "language": "python",
   "name": "python3"
  },
  "language_info": {
   "codemirror_mode": {
    "name": "ipython",
    "version": 3
   },
   "file_extension": ".py",
   "mimetype": "text/x-python",
   "name": "python",
   "nbconvert_exporter": "python",
   "pygments_lexer": "ipython3",
   "version": "3.6.13"
  }
 },
 "nbformat": 4,
 "nbformat_minor": 5
}
