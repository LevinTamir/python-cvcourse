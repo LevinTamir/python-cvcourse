{
 "cells": [
  {
   "cell_type": "code",
   "execution_count": 11,
   "id": "ac33ef75-4bc1-480e-97f7-6fe5dc2c44ff",
   "metadata": {},
   "outputs": [],
   "source": [
    "import cv2\n",
    "import time\n",
    "\n",
    "cap = cv2.VideoCapture('myvideo.mp4')\n",
    "\n",
    "if cap.isOpened() == False:\n",
    "    print('ERROR: FILE NOT FOUND OR WRONG CODEC USED!')\n",
    "    \n",
    "while cap.isOpened():\n",
    "    \n",
    "    ret,frame = cap.read()\n",
    "    \n",
    "    if ret == True:\n",
    "        \n",
    "        time.sleep(1/40)\n",
    "        cv2.imshow('frame', frame)\n",
    "        \n",
    "        if cv2.waitKey(10) & 0xFF == 27:\n",
    "            break\n",
    "            \n",
    "    else:\n",
    "        break\n",
    "        \n",
    "cap.release()\n",
    "cv2.destroyAllWindows()"
   ]
  }
 ],
 "metadata": {
  "kernelspec": {
   "display_name": "Python 3",
   "language": "python",
   "name": "python3"
  },
  "language_info": {
   "codemirror_mode": {
    "name": "ipython",
    "version": 3
   },
   "file_extension": ".py",
   "mimetype": "text/x-python",
   "name": "python",
   "nbconvert_exporter": "python",
   "pygments_lexer": "ipython3",
   "version": "3.6.13"
  }
 },
 "nbformat": 4,
 "nbformat_minor": 5
}
